{
 "cells": [
  {
   "cell_type": "code",
   "execution_count": 1,
   "metadata": {},
   "outputs": [],
   "source": [
    "## First run runLambdaCalibrationExps.py\n",
    "# Below, modify the settings of lams to be whatever you used there, as well as Ns and Ds"
   ]
  },
  {
   "cell_type": "code",
   "execution_count": null,
   "metadata": {},
   "outputs": [],
   "source": [
    "%load_ext autoreload\n",
    "%autoreload 2\n",
    "%run ./runLambdaCalibrationExps.py\n",
    "import pickle\n",
    "import numpy as np\n",
    "import matplotlib.pyplot as plt\n",
    "%matplotlib inline\n",
    "# Inline figure display: SVG for interactive and PDF for \n",
    "# eventual outputting as PDF through nbconvert\n",
    "%config InlineBackend.figure_formats = ['pdf','svg']\n",
    "import expUtils\n",
    "from matplotlib.backends.backend_pdf import PdfPages\n",
    "import matplotlib\n",
    "matplotlib.rcParams['text.usetex'] = True"
   ]
  },
  {
   "cell_type": "code",
   "execution_count": null,
   "metadata": {
    "scrolled": false
   },
   "outputs": [],
   "source": [
    "import matplotlib\n",
    "matplotlib.rcParams['text.usetex'] = True\n",
    "N = 150\n",
    "D = 150\n",
    "S = 75\n",
    "Ns = np.array([N,])\n",
    "Ds = np.array([D,])\n",
    "lams = np.logspace(np.log10(0.01), np.log10(2.0), 15)\n",
    "lams = np.concatenate((np.logspace(np.log10(0.000001), np.log10(0.001), 4), lams))\n",
    "import matplotlib.font_manager as font_manager\n",
    "#from matplotlib.backends.backend_pdf import PdfPages\n",
    "matplotlib.rcParams['pdf.fonttype'] = 42\n",
    "matplotlib.rcParams['ps.fonttype'] = 42\n",
    "font = font_manager.FontProperties(family='Times New Roman', size = 20)\n",
    "csfont = {'fontname':'normal'}\n",
    "\n",
    "\n",
    "\n",
    "doNS = True\n",
    "\n",
    "expUtils.makeLambdaSelectionPlot(lams[:4], Ns=Ns, Ds=Ds, B=100, upTo=S, datasetName='SyntheticLogisticDatasetGenerator', regularization='L1', L1str='-fitL1', k=1, Xrank=-1,tag='testtest', trialNum=0, \n",
    "                                 doNS=doNS)\n",
    "plt.xticks(np.linspace(lams[0]/N,lams[3]/N,num=5))\n",
    "plt.legend(fontsize=14, loc='upper right')\n",
    "plt.gca().set_xlabel('Small $\\lambda$'.format(lams[3]/N), fontsize=24)\n",
    "plt.gca().set_ylabel('CV Estimate', fontsize=24)\n",
    "plt.ticklabel_format( axis='x', scilimits=(0,0))\n",
    "plt.tight_layout()\n",
    "plt.savefig(\"l1_logistic-small_lam.pdf\")\n",
    "plt.show()\n",
    "\n",
    "expUtils.makeLambdaSelectionPlot(lams[4:16], Ns=Ns, Ds=Ds, B=100, upTo=S, datasetName='SyntheticLogisticDatasetGenerator', regularization='L1', L1str='-fitL1', k=1, Xrank=-1,tag='testtest', trialNum=0, \n",
    "                                 doNS=doNS)\n",
    "\n",
    "plt.xticks(np.linspace(lams[4]/N,lams[15]/N,num=5))\n",
    "plt.legend(fontsize=14, loc='upper right')\n",
    "plt.gca().set_xlabel('Large $\\lambda$'.format(lams[4]/N), fontsize=24)\n",
    "plt.gca().set_ylabel('CV Estimate', fontsize=24)\n",
    "plt.ticklabel_format(style='sci', axis='x', scilimits=(0,0))\n",
    "plt.tight_layout()\n",
    "plt.savefig(\"l1_logistic-large_lam.pdf\")\n",
    "plt.show()"
   ]
  },
  {
   "cell_type": "code",
   "execution_count": null,
   "metadata": {},
   "outputs": [],
   "source": []
  }
 ],
 "metadata": {
  "kernelspec": {
   "display_name": "Python 3",
   "language": "python",
   "name": "python3"
  },
  "language_info": {
   "codemirror_mode": {
    "name": "ipython",
    "version": 3
   },
   "file_extension": ".py",
   "mimetype": "text/x-python",
   "name": "python",
   "nbconvert_exporter": "python",
   "pygments_lexer": "ipython3",
   "version": "3.7.4"
  }
 },
 "nbformat": 4,
 "nbformat_minor": 2
}
